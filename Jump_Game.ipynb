{
  "nbformat": 4,
  "nbformat_minor": 0,
  "metadata": {
    "colab": {
      "provenance": []
    },
    "kernelspec": {
      "name": "python3",
      "display_name": "Python 3"
    },
    "language_info": {
      "name": "python"
    }
  },
  "cells": [
    {
      "cell_type": "markdown",
      "source": [
        "# **Jump Game**"
      ],
      "metadata": {
        "id": "foWvqJckyavM"
      }
    },
    {
      "cell_type": "markdown",
      "source": [
        "# Bruteforce Strategy\n",
        "# Checking all possible jumps from each index to see if we can eventually reach the last index\n",
        "# Runtime: O(n^2) depending our implementation and use of buffer array or cache array\n",
        "# Spacetime: O(n)\n",
        "\n",
        "\n",
        "---\n",
        "\n",
        "\n"
      ],
      "metadata": {
        "id": "hzhGj7FFyu3e"
      }
    },
    {
      "cell_type": "markdown",
      "source": [
        "\n",
        "# Greedy Strategy: The greedy approach is to pick the farthest possible reach\n",
        "# RunTime Complexity  : O(n) , n is the size of the array\n",
        "# SpaceTime Complexity: O(1) , we don't use additional data structures such as array\n",
        "\n",
        "\n",
        "---\n",
        "\n"
      ],
      "metadata": {
        "id": "XL5r6QpZzQtq"
      }
    },
    {
      "cell_type": "code",
      "source": [
        "\n",
        "class Solution(object):\n",
        "    def canJump(self, nums):\n",
        "        # Initalize maximum_reach as 0 in the beginning\n",
        "        maximum_reach=0 #O(1)\n",
        "\n",
        "        length_array=len(nums) #O(1)\n",
        "\n",
        "        # Loop through the array\n",
        "        for i in range(length_array): # O(n)\n",
        "\n",
        "            # If the current index i is unreachable, we return false\n",
        "            if(i>maximum_reach):\n",
        "                return False\n",
        "\n",
        "            # We update the maximum reach based on max of the currentmax and i+nums[i].\n",
        "            # In i+nums[i], '+i' is required as we want to know our starting position\n",
        "            maximum_reach=max(maximum_reach,i+nums[i])\n",
        "\n",
        "            # If we can reach atleast length-1, we return true\n",
        "            if(maximum_reach >=  length_array-1):\n",
        "                return True\n",
        "\n"
      ],
      "metadata": {
        "id": "x4wov02yy-LS"
      },
      "execution_count": null,
      "outputs": []
    }
  ]
}